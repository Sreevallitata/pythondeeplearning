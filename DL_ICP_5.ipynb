{
  "nbformat": 4,
  "nbformat_minor": 0,
  "metadata": {
    "colab": {
      "name": "DL_ICP-5.ipynb",
      "provenance": []
    },
    "kernelspec": {
      "name": "python3",
      "display_name": "Python 3"
    }
  },
  "cells": [
    {
      "cell_type": "code",
      "metadata": {
        "id": "CnC8WlQ7JIlr",
        "colab_type": "code",
        "colab": {
          "base_uri": "https://localhost:8080/",
          "height": 238
        },
        "outputId": "f9515e22-6c9c-444c-a28d-48b314867fbc"
      },
      "source": [
        "import pandas as pd # data processing, CSV file I/O (e.g. pd.read_csv)\n",
        "from keras.preprocessing.text import Tokenizer\n",
        "from keras.preprocessing.sequence import pad_sequences\n",
        "from keras.models import Sequential\n",
        "from keras.layers import Dense, Embedding, LSTM, SpatialDropout1D\n",
        "from matplotlib import pyplot\n",
        "from sklearn.model_selection import train_test_split\n",
        "from keras.utils.np_utils import to_categorical\n",
        "import re\n",
        "from sklearn.preprocessing import LabelEncoder\n",
        "data = pd.read_csv('/content/drive/My Drive/Sentiment.csv')\n",
        "# Keeping only the neccessary columns\n",
        "data = data[['text','sentiment']]\n",
        "data['text'] = data['text'].apply(lambda x: x.lower())\n",
        "data['text'] = data['text'].apply((lambda x: re.sub('[^a-zA-z0-9\\s]', '', x)))\n",
        "for idx, row in data.iterrows():\n",
        "    row[0] = row[0].replace('rt', ' ')\n",
        "    max_fatures = 2000\n",
        "tokenizer = Tokenizer(num_words=max_fatures, split=' ')\n",
        "tokenizer.fit_on_texts(data['text'].values)\n",
        "X = tokenizer.texts_to_sequences(data['text'].values)\n",
        "\n",
        "X = pad_sequences(X)\n",
        "def createmodel():\n",
        "    model = Sequential()\n",
        "    lstm_out=196\n",
        "    embed_dim=128\n",
        "    model.add(Embedding(max_fatures, embed_dim,input_length = X.shape[1]))\n",
        "    model.add(LSTM(lstm_out, dropout=0.2, recurrent_dropout=0.2))\n",
        "    model.add(Dense(3,activation='softmax'))\n",
        "    model.compile(loss = 'categorical_crossentropy', optimizer='adam',metrics = ['accuracy'])\n",
        "    return model\n",
        "    #print(model.summary())\n",
        "labelencoder = LabelEncoder()\n",
        "integer_encoded = labelencoder.fit_transform(data['sentiment'])\n",
        "print(integer_encoded)\n",
        "print(data['sentiment'])\n",
        "y = to_categorical(integer_encoded)\n",
        "X_train, X_test, Y_train, Y_test = train_test_split(X,y, test_size = 0.33, random_state = 42)"
      ],
      "execution_count": 2,
      "outputs": [
        {
          "output_type": "stream",
          "text": [
            "[1 2 1 ... 2 0 2]\n",
            "0         Neutral\n",
            "1        Positive\n",
            "2         Neutral\n",
            "3        Positive\n",
            "4        Positive\n",
            "           ...   \n",
            "13866    Negative\n",
            "13867    Positive\n",
            "13868    Positive\n",
            "13869    Negative\n",
            "13870    Positive\n",
            "Name: sentiment, Length: 13871, dtype: object\n"
          ],
          "name": "stdout"
        }
      ]
    },
    {
      "cell_type": "code",
      "metadata": {
        "id": "Og7bxGioOAqN",
        "colab_type": "code",
        "colab": {
          "base_uri": "https://localhost:8080/",
          "height": 190
        },
        "outputId": "9eb49891-11df-4592-ccb7-f073157436d8"
      },
      "source": [
        "batch_size = 32\n",
        "model = createmodel()\n",
        "model.fit(X_train, Y_train, epochs = 2, batch_size=batch_size, verbose = 2)\n",
        "score,acc = model.evaluate(X_test,Y_test,verbose=2,batch_size=batch_size)\n",
        "print('score',score)\n",
        "print('accuracy',acc)\n",
        "print('Model Metrics Names',model.metrics_names)"
      ],
      "execution_count": 4,
      "outputs": [
        {
          "output_type": "stream",
          "text": [
            "/usr/local/lib/python3.6/dist-packages/tensorflow/python/framework/indexed_slices.py:434: UserWarning: Converting sparse IndexedSlices to a dense Tensor of unknown shape. This may consume a large amount of memory.\n",
            "  \"Converting sparse IndexedSlices to a dense Tensor of unknown shape. \"\n"
          ],
          "name": "stderr"
        },
        {
          "output_type": "stream",
          "text": [
            "Epoch 1/2\n",
            " - 26s - loss: 0.8293 - accuracy: 0.6385\n",
            "Epoch 2/2\n",
            " - 25s - loss: 0.6869 - accuracy: 0.7076\n",
            "score 0.7486243940769403\n",
            "accuracy 0.6806465983390808\n",
            "Model Metrics Names ['loss', 'accuracy']\n"
          ],
          "name": "stdout"
        }
      ]
    },
    {
      "cell_type": "code",
      "metadata": {
        "id": "eHxLuRomO7II",
        "colab_type": "code",
        "colab": {
          "base_uri": "https://localhost:8080/",
          "height": 105
        },
        "outputId": "f6517677-1795-4e67-a986-db89d82d398b"
      },
      "source": [
        "model.save('Sreevalli.h5')\n",
        "from keras.models import load_model\n",
        "model= load_model('Sreevalli.h5')\n",
        "import numpy as np\n",
        "sentence = ['A lot of good things are happening. We are respected again throughout the world, and that is a great thing']\n",
        "#vectorizing the tweet by the pre-fitted tokenizer instance\n",
        "sentence = tokenizer.texts_to_sequences(sentence)\n",
        "#padding the tweet to have exactly the same shape as `embedding_2` input\n",
        "sentence = pad_sequences(sentence, maxlen=28, dtype='int32', value=0)\n",
        "sentiment = model.predict_classes(sentence,batch_size=1,verbose = 2)[0]\n",
        "print(sentiment)\n",
        "if sentiment == 1:\n",
        "  print(\"Neutral\")\n",
        "elif sentiment == 0:\n",
        "  print(\"Negative\")\n",
        "elif sentiment == 2:\n",
        "  print(\"Positive\")\n",
        "else:\n",
        "  print(\"Can not be determined\")"
      ],
      "execution_count": 5,
      "outputs": [
        {
          "output_type": "stream",
          "text": [
            "/usr/local/lib/python3.6/dist-packages/tensorflow/python/framework/indexed_slices.py:434: UserWarning: Converting sparse IndexedSlices to a dense Tensor of unknown shape. This may consume a large amount of memory.\n",
            "  \"Converting sparse IndexedSlices to a dense Tensor of unknown shape. \"\n"
          ],
          "name": "stderr"
        },
        {
          "output_type": "stream",
          "text": [
            "0\n",
            "Negative\n"
          ],
          "name": "stdout"
        }
      ]
    },
    {
      "cell_type": "code",
      "metadata": {
        "id": "tGS6qoyIPT__",
        "colab_type": "code",
        "colab": {
          "base_uri": "https://localhost:8080/",
          "height": 1000
        },
        "outputId": "c438b17a-18a0-4203-92d0-66c6e59f62a3"
      },
      "source": [
        "from keras.wrappers.scikit_learn import KerasClassifier\n",
        "model = KerasClassifier(build_fn=createmodel,verbose=2)\n",
        "batch_size= [10, 20]\n",
        "epochs = [1, 2]\n",
        "param_grid= {'batch_size':batch_size, 'epochs':epochs}\n",
        "from sklearn.model_selection import GridSearchCV\n",
        "grid  = GridSearchCV(estimator=model, param_grid=param_grid)\n",
        "grid_result= grid.fit(X_train, y=Y_train)\n",
        "# summarize results\n",
        "print(\"Best: %f using %s\" % (grid_result.best_score_, grid_result.best_params_))"
      ],
      "execution_count": 6,
      "outputs": [
        {
          "output_type": "stream",
          "text": [
            "/usr/local/lib/python3.6/dist-packages/tensorflow/python/framework/indexed_slices.py:434: UserWarning: Converting sparse IndexedSlices to a dense Tensor of unknown shape. This may consume a large amount of memory.\n",
            "  \"Converting sparse IndexedSlices to a dense Tensor of unknown shape. \"\n"
          ],
          "name": "stderr"
        },
        {
          "output_type": "stream",
          "text": [
            "Epoch 1/1\n",
            " - 38s - loss: 0.8312 - accuracy: 0.6454\n",
            "Epoch 1/1\n",
            " - 37s - loss: 0.8246 - accuracy: 0.6450\n",
            "Epoch 1/1\n",
            " - 38s - loss: 0.8298 - accuracy: 0.6376\n",
            "Epoch 1/1\n",
            " - 39s - loss: 0.8311 - accuracy: 0.6390\n",
            "Epoch 1/1\n",
            " - 37s - loss: 0.8272 - accuracy: 0.6426\n",
            "Epoch 1/2\n",
            " - 37s - loss: 0.8313 - accuracy: 0.6437\n",
            "Epoch 2/2\n",
            " - 37s - loss: 0.6929 - accuracy: 0.7121\n",
            "Epoch 1/2\n",
            " - 36s - loss: 0.8283 - accuracy: 0.6426\n",
            "Epoch 2/2\n",
            " - 37s - loss: 0.6916 - accuracy: 0.7063\n",
            "Epoch 1/2\n",
            " - 38s - loss: 0.8330 - accuracy: 0.6403\n",
            "Epoch 2/2\n",
            " - 38s - loss: 0.6818 - accuracy: 0.7116\n",
            "Epoch 1/2\n",
            " - 37s - loss: 0.8320 - accuracy: 0.6421\n",
            "Epoch 2/2\n",
            " - 37s - loss: 0.6833 - accuracy: 0.7106\n",
            "Epoch 1/2\n",
            " - 37s - loss: 0.8263 - accuracy: 0.6487\n",
            "Epoch 2/2\n",
            " - 37s - loss: 0.6762 - accuracy: 0.7119\n",
            "Epoch 1/1\n",
            " - 26s - loss: 0.8409 - accuracy: 0.6443\n",
            "Epoch 1/1\n",
            " - 26s - loss: 0.8304 - accuracy: 0.6427\n",
            "Epoch 1/1\n",
            " - 26s - loss: 0.8356 - accuracy: 0.6406\n",
            "Epoch 1/1\n",
            " - 26s - loss: 0.8362 - accuracy: 0.6413\n",
            "Epoch 1/1\n",
            " - 26s - loss: 0.8274 - accuracy: 0.6420\n",
            "Epoch 1/2\n",
            " - 26s - loss: 0.8348 - accuracy: 0.6392\n",
            "Epoch 2/2\n",
            " - 25s - loss: 0.6926 - accuracy: 0.7051\n",
            "Epoch 1/2\n",
            " - 26s - loss: 0.8324 - accuracy: 0.6423\n",
            "Epoch 2/2\n",
            " - 26s - loss: 0.6951 - accuracy: 0.7031\n",
            "Epoch 1/2\n",
            " - 26s - loss: 0.8382 - accuracy: 0.6377\n",
            "Epoch 2/2\n",
            " - 26s - loss: 0.6849 - accuracy: 0.7140\n",
            "Epoch 1/2\n",
            " - 27s - loss: 0.8392 - accuracy: 0.6387\n",
            "Epoch 2/2\n",
            " - 26s - loss: 0.6832 - accuracy: 0.7083\n",
            "Epoch 1/2\n",
            " - 32s - loss: 0.8327 - accuracy: 0.6413\n",
            "Epoch 2/2\n",
            " - 26s - loss: 0.6832 - accuracy: 0.7083\n",
            "Epoch 1/2\n",
            " - 46s - loss: 0.8106 - accuracy: 0.6510\n",
            "Epoch 2/2\n",
            " - 46s - loss: 0.6794 - accuracy: 0.7138\n",
            "Best: 0.675021 using {'batch_size': 10, 'epochs': 2}\n"
          ],
          "name": "stdout"
        }
      ]
    },
    {
      "cell_type": "code",
      "metadata": {
        "id": "AdWydCoqVLWD",
        "colab_type": "code",
        "colab": {
          "base_uri": "https://localhost:8080/",
          "height": 292
        },
        "outputId": "a6ab8b30-cbb9-48c2-e861-a8e77ccba092"
      },
      "source": [
        "data1 = pd.read_csv('/content/drive/My Drive/spam.csv',encoding=\"ISO-8859-1\")\n",
        "\n",
        "# Keeping only the neccessary columns\n",
        "data1 = data1[['v1','v2']]\n",
        "data1['v2'] = data1['v2'].apply(lambda x: x.lower())\n",
        "data1['v2'] = data1['v2'].apply((lambda x: re.sub('[^a-zA-z0-9\\s]', '', x)))\n",
        "for idx, row in data1.iterrows():\n",
        "    row[0] = row[0].replace('rt', ' ')\n",
        "max_fatures = 2000\n",
        "tokenizer = Tokenizer(num_words=max_fatures, split=' ')\n",
        "tokenizer.fit_on_texts(data1['v2'].values)\n",
        "X = tokenizer.texts_to_sequences(data1['v2'].values)\n",
        "\n",
        "X = pad_sequences(X)\n",
        "labelencoder = LabelEncoder()\n",
        "integer_encoded = labelencoder.fit_transform(data1['v1'])\n",
        "y = to_categorical(integer_encoded)\n",
        "X_train, X_test, Y_train, Y_test = train_test_split(X,y, test_size = 0.33, random_state = 42)\n",
        "def createmodel1():\n",
        "  embed_dim=128\n",
        "  lstm_out=196\n",
        "  model = Sequential()\n",
        "  model.add(Embedding(max_fatures, embed_dim,input_length = X.shape[1]))\n",
        "  model.add(LSTM(lstm_out, dropout=0.2, recurrent_dropout=0.2))\n",
        "  model.add(Dense(2,activation='softmax'))\n",
        "  model.compile(loss = 'categorical_crossentropy', optimizer='adam',metrics = ['accuracy'])\n",
        "  return model\n",
        "batch_size = 32\n",
        "model1 = createmodel1()\n",
        "model1.fit(X_train, Y_train, epochs = 5, batch_size=batch_size, verbose = 2)\n",
        "score,acc = model1.evaluate(X_test,Y_test,verbose=2,batch_size=batch_size)\n",
        "print(score)\n",
        "print(acc)\n",
        "print(model1.metrics_names)"
      ],
      "execution_count": 9,
      "outputs": [
        {
          "output_type": "stream",
          "text": [
            "/usr/local/lib/python3.6/dist-packages/tensorflow/python/framework/indexed_slices.py:434: UserWarning: Converting sparse IndexedSlices to a dense Tensor of unknown shape. This may consume a large amount of memory.\n",
            "  \"Converting sparse IndexedSlices to a dense Tensor of unknown shape. \"\n"
          ],
          "name": "stderr"
        },
        {
          "output_type": "stream",
          "text": [
            "Epoch 1/5\n",
            " - 52s - loss: 0.1694 - accuracy: 0.9400\n",
            "Epoch 2/5\n",
            " - 51s - loss: 0.0416 - accuracy: 0.9885\n",
            "Epoch 3/5\n",
            " - 50s - loss: 0.0230 - accuracy: 0.9941\n",
            "Epoch 4/5\n",
            " - 51s - loss: 0.0111 - accuracy: 0.9971\n",
            "Epoch 5/5\n",
            " - 50s - loss: 0.0116 - accuracy: 0.9962\n",
            "0.0875708267716625\n",
            "0.9825992584228516\n",
            "['loss', 'accuracy']\n"
          ],
          "name": "stdout"
        }
      ]
    }
  ]
}